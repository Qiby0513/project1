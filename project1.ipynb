{
 "cells": [
  {
   "cell_type": "code",
   "execution_count": 1,
   "metadata": {},
   "outputs": [],
   "source": [
    "#Python and machine learning"
   ]
  },
  {
   "cell_type": "code",
   "execution_count": 2,
   "metadata": {},
   "outputs": [],
   "source": [
    "#导入numpy、pandas包。\n",
    "import numpy as np\n",
    "import pandas as pd"
   ]
  },
  {
   "cell_type": "code",
   "execution_count": 3,
   "metadata": {},
   "outputs": [],
   "source": [
    "#定义表头\n",
    "column = ['Code number',\n",
    "          'Clump Thickness',\n",
    "          'Uniformity of cell size',\n",
    "          'Uniformity of cell shape',\n",
    "          'Marginal adhesion',\n",
    "          'Single epithelial cell size',\n",
    "          'Bare nuclei',\n",
    "          'Bland chromatin',\n",
    "          'Nromal nucleoli',\n",
    "          'Mitoses',\n",
    "          'Class']"
   ]
  },
  {
   "cell_type": "code",
   "execution_count": 4,
   "metadata": {},
   "outputs": [
    {
     "data": {
      "text/plain": [
       "(698, 11)"
      ]
     },
     "execution_count": 4,
     "metadata": {},
     "output_type": "execute_result"
    }
   ],
   "source": [
    "#读取相关数据\n",
    "data = pd.read_csv('https://archive.ics.uci.edu/ml/machine-learning-databases/breast-cancer-wisconsin/breast-cancer-wisconsin.data')\n",
    "data.columns = column\n",
    "data.shape\n",
    "\n"
   ]
  },
  {
   "cell_type": "code",
   "execution_count": 5,
   "metadata": {},
   "outputs": [
    {
     "name": "stdout",
     "output_type": "stream",
     "text": [
      "<class 'pandas.core.frame.DataFrame'>\n",
      "RangeIndex: 698 entries, 0 to 697\n",
      "Data columns (total 11 columns):\n",
      " #   Column                       Non-Null Count  Dtype \n",
      "---  ------                       --------------  ----- \n",
      " 0   Code number                  698 non-null    int64 \n",
      " 1   Clump Thickness              698 non-null    int64 \n",
      " 2   Uniformity of cell size      698 non-null    int64 \n",
      " 3   Uniformity of cell shape     698 non-null    int64 \n",
      " 4   Marginal adhesion            698 non-null    int64 \n",
      " 5   Single epithelial cell size  698 non-null    int64 \n",
      " 6   Bare nuclei                  698 non-null    object\n",
      " 7   Bland chromatin              698 non-null    int64 \n",
      " 8   Nromal nucleoli              698 non-null    int64 \n",
      " 9   Mitoses                      698 non-null    int64 \n",
      " 10  Class                        698 non-null    int64 \n",
      "dtypes: int64(10), object(1)\n",
      "memory usage: 60.1+ KB\n"
     ]
    }
   ],
   "source": [
    "data.info()"
   ]
  },
  {
   "cell_type": "code",
   "execution_count": 6,
   "metadata": {},
   "outputs": [
    {
     "data": {
      "text/plain": [
       "(682, 11)"
      ]
     },
     "execution_count": 6,
     "metadata": {},
     "output_type": "execute_result"
    }
   ],
   "source": [
    "#删除数据中有缺失的数据行\n",
    "data = data.replace(to_replace='?', value=np.nan)\n",
    "data = data.dropna(how='any')\n",
    "data.shape"
   ]
  },
  {
   "cell_type": "code",
   "execution_count": 7,
   "metadata": {},
   "outputs": [
    {
     "data": {
      "text/plain": [
       "<function matplotlib.pyplot.show(*args, **kw)>"
      ]
     },
     "execution_count": 7,
     "metadata": {},
     "output_type": "execute_result"
    },
    {
     "data": {
      "image/png": "[encoded data removed]",
      "text/plain": [
       "<Figure size 432x288 with 1 Axes>"
      ]
     },
     "metadata": {
      "needs_background": "light"
     },
     "output_type": "display_data"
    }
   ],
   "source": [
    "import matplotlib.pyplot as plt\n",
    "Class = ('Benign', 'Malignant')\n",
    "num = data['Class'].value_counts()\n",
    "num = num.values\n",
    "plt.bar(Class, num,)\n",
    "plt.show"
   ]
  },
  {
   "cell_type": "code",
   "execution_count": 8,
   "metadata": {},
   "outputs": [
    {
     "name": "stdout",
     "output_type": "stream",
     "text": [
      "455    4\n",
      "347    4\n",
      "326    2\n",
      "210    4\n",
      "426    4\n",
      "      ..\n",
      "110    4\n",
      "683    2\n",
      "373    2\n",
      "63     2\n",
      "365    4\n",
      "Name: Class, Length: 137, dtype: int64\n"
     ]
    }
   ],
   "source": [
    "#对数据集进行划分，80%作为训练集，20%作为测试集\n",
    "from sklearn.model_selection import train_test_split\n",
    "train_X , test_X , train_y , test_y = train_test_split(data[column[1:10]], data['Class'], test_size=0.20, random_state=3)\n",
    "print(test_y)\n"
   ]
  },
  {
   "cell_type": "code",
   "execution_count": 9,
   "metadata": {},
   "outputs": [
    {
     "data": {
      "text/plain": [
       "2    360\n",
       "4    185\n",
       "Name: Class, dtype: int64"
      ]
     },
     "execution_count": 9,
     "metadata": {},
     "output_type": "execute_result"
    }
   ],
   "source": [
    "train_y.value_counts()"
   ]
  },
  {
   "cell_type": "code",
   "execution_count": 10,
   "metadata": {},
   "outputs": [
    {
     "name": "stdout",
     "output_type": "stream",
     "text": [
      "[[ 1.  0.  0. ...  2.  1.  1.]\n",
      " [ 0.  0.  0. ...  2.  1.  1.]\n",
      " [ 1.  0.  0. ...  2.  1.  1.]\n",
      " ...\n",
      " [ 1.  0.  0. ...  2.  1.  1.]\n",
      " [ 1.  0.  0. ...  2.  1.  1.]\n",
      " [ 0.  1.  0. ...  4. 10. 10.]]\n"
     ]
    }
   ],
   "source": [
    "# 对类别型特征进行转化，成为特征向量。\n",
    "from sklearn.feature_extraction import DictVectorizer\n",
    "\n",
    "vec = DictVectorizer(sparse=False)\n",
    "ei_train_X = vec.fit_transform(train_X.to_dict(orient='record'))\n",
    "ei_test_X = vec.transform(test_X.to_dict(orient='record'))\n",
    "print(ei_train_X)"
   ]
  },
  {
   "cell_type": "code",
   "execution_count": 11,
   "metadata": {},
   "outputs": [],
   "source": [
    "# 使用单一决策树进行模型训练以及预测分析。\n",
    "from sklearn.tree import DecisionTreeClassifier\n",
    "\n",
    "dtc = DecisionTreeClassifier()\n",
    "dtc.fit(ei_train_X, train_y)\n",
    "dtc_y_pred = dtc.predict(ei_test_X)\n"
   ]
  },
  {
   "cell_type": "code",
   "execution_count": 12,
   "metadata": {},
   "outputs": [
    {
     "name": "stdout",
     "output_type": "stream",
     "text": [
      "The accuracy of decision tree is 0.9197080291970803\n",
      "              precision    recall  f1-score   support\n",
      "\n",
      "      Benign       0.96      0.91      0.94        88\n",
      "   Malignant       0.85      0.94      0.89        49\n",
      "\n",
      "    accuracy                           0.92       137\n",
      "   macro avg       0.91      0.92      0.91       137\n",
      "weighted avg       0.92      0.92      0.92       137\n",
      "\n"
     ]
    }
   ],
   "source": [
    "from sklearn.metrics import classification_report\n",
    "print ('The accuracy of decision tree is', dtc.score(ei_test_X, test_y))\n",
    "print (classification_report(dtc_y_pred, test_y,target_names = ['Benign', 'Malignant']))\n"
   ]
  },
  {
   "cell_type": "code",
   "execution_count": 13,
   "metadata": {},
   "outputs": [
    {
     "name": "stdout",
     "output_type": "stream",
     "text": [
      "[[-0.517103   -0.68706287 -0.73527694 ... -0.57721614 -0.60240195\n",
      "  -0.33516549]\n",
      " [-0.517103   -0.68706287 -0.73527694 ... -0.98156421 -0.60240195\n",
      "  -0.33516549]\n",
      " [-0.517103   -0.68706287 -0.73527694 ... -0.98156421 -0.60240195\n",
      "  -0.33516549]\n",
      " ...\n",
      " [-1.22787509 -0.68706287 -0.73527694 ... -0.57721614 -0.60240195\n",
      "  -0.33516549]\n",
      " [-0.517103   -0.68706287 -0.73527694 ... -0.17286807 -0.60240195\n",
      "  -0.33516549]\n",
      " [ 0.19366909  2.27691548  2.31078167 ...  0.63582806  1.05071518\n",
      "   0.84331963]] 275    2\n",
      "460    2\n",
      "255    2\n",
      "239    2\n",
      "75     2\n",
      "      ..\n",
      "675    2\n",
      "264    2\n",
      "659    2\n",
      "257    2\n",
      "680    4\n",
      "Name: Class, Length: 545, dtype: int64\n"
     ]
    }
   ],
   "source": [
    "from sklearn.preprocessing import StandardScaler\n",
    "\n",
    "#进行数据预处理，保证数据每个维度均值为0，方差为1  x' = (x-x.mean)/x.std  即x减去x的均值，再除以标准差\n",
    "ss = StandardScaler()\n",
    "train_X = ss.fit_transform(train_X)\n",
    "test_X = ss.transform(test_X)\n",
    "print(train_X,train_y)"
   ]
  },
  {
   "cell_type": "code",
   "execution_count": 14,
   "metadata": {},
   "outputs": [],
   "source": [
    "#使用逻辑斯蒂回归对模型进行学习训练。\n",
    "from sklearn.linear_model import LogisticRegression\n",
    "\n",
    "log = LogisticRegression()\n",
    "log.fit(train_X, train_y)\n",
    "log_y_predict = log.predict(test_X)"
   ]
  },
  {
   "cell_type": "code",
   "execution_count": 15,
   "metadata": {},
   "outputs": [
    {
     "name": "stdout",
     "output_type": "stream",
     "text": [
      "Accuracy of LR Classifier:0.948905109489051\n",
      "              precision    recall  f1-score   support\n",
      "\n",
      "      Benign       0.94      0.98      0.96        83\n",
      "   Malignant       0.96      0.91      0.93        54\n",
      "\n",
      "    accuracy                           0.95       137\n",
      "   macro avg       0.95      0.94      0.95       137\n",
      "weighted avg       0.95      0.95      0.95       137\n",
      "\n"
     ]
    }
   ],
   "source": [
    "#分别用准确率，召回率，精准率和F1指标来判断机器学习的准确度。\n",
    "from sklearn.metrics import classification_report\n",
    "print ('Accuracy of LR Classifier:{}'.format(log.score(test_X, test_y)))\n",
    "print (classification_report(test_y, log_y_predict, target_names=['Benign', 'Malignant']))"
   ]
  },
  {
   "cell_type": "code",
   "execution_count": 16,
   "metadata": {},
   "outputs": [],
   "source": [
    "#使用随机梯度参数对模型进行学习训练。\n",
    "from sklearn.linear_model import SGDClassifier\n",
    "sgd = SGDClassifier()\n",
    "sgd.fit(train_X, train_y)\n",
    "sgd_y_predict = sgd.predict(test_X)"
   ]
  },
  {
   "cell_type": "code",
   "execution_count": 17,
   "metadata": {},
   "outputs": [
    {
     "name": "stdout",
     "output_type": "stream",
     "text": [
      "Accuarcy of SGD Classifier: 0.9635036496350365\n",
      "              precision    recall  f1-score   support\n",
      "\n",
      "      Benign       0.96      0.98      0.97        83\n",
      "   Malignant       0.96      0.94      0.95        54\n",
      "\n",
      "    accuracy                           0.96       137\n",
      "   macro avg       0.96      0.96      0.96       137\n",
      "weighted avg       0.96      0.96      0.96       137\n",
      "\n"
     ]
    }
   ],
   "source": [
    "#分别用准确率，召回率，精准率和F1指标来判断机器学习的准确度。\n",
    "print ('Accuarcy of SGD Classifier:', sgd.score(test_X , test_y))\n",
    "print (classification_report(test_y, sgd_y_predict, target_names=['Benign', 'Malignant']))"
   ]
  },
  {
   "cell_type": "code",
   "execution_count": 18,
   "metadata": {},
   "outputs": [],
   "source": [
    "#基于线性假设的支持向量机\n",
    "from sklearn.svm import LinearSVC\n",
    "\n",
    "lin = LinearSVC()\n",
    "lin.fit(train_X, train_y)\n",
    "lin_y_predict = lin.predict(test_X)"
   ]
  },
  {
   "cell_type": "code",
   "execution_count": 19,
   "metadata": {},
   "outputs": [
    {
     "name": "stdout",
     "output_type": "stream",
     "text": [
      "Accuracy of LR Classifier:0.948905109489051\n",
      "              precision    recall  f1-score   support\n",
      "\n",
      "      Benign       0.94      0.98      0.96        83\n",
      "   Malignant       0.96      0.91      0.93        54\n",
      "\n",
      "    accuracy                           0.95       137\n",
      "   macro avg       0.95      0.94      0.95       137\n",
      "weighted avg       0.95      0.95      0.95       137\n",
      "\n"
     ]
    }
   ],
   "source": [
    "print ('Accuracy of LR Classifier:{}'.format(lin.score(test_X, test_y)))\n",
    "print (classification_report(test_y, lin_y_predict, target_names=['Benign', 'Malignant']))"
   ]
  },
  {
   "cell_type": "code",
   "execution_count": 20,
   "metadata": {},
   "outputs": [
    {
     "data": {
      "image/png": "[encoded data removed]",
      "text/plain": [
       "<Figure size 432x288 with 1 Axes>"
      ]
     },
     "metadata": {
      "needs_background": "light"
     },
     "output_type": "display_data"
    }
   ],
   "source": [
    "import matplotlib.pyplot as plt\n",
    "from sklearn.neighbors import KNeighborsClassifier\n",
    "training_accuracy=[]\n",
    "test_accuracy=[]\n",
    "neighbors_settings = range(1,11)\n",
    "for n_neighbors in neighbors_settings:\n",
    "    knn=KNeighborsClassifier(n_neighbors=n_neighbors)\n",
    "    knn.fit(train_X,train_y)\n",
    "    training_accuracy.append(knn.score(train_X,train_y))\n",
    "    test_accuracy.append(knn.score(test_X,test_y))\n",
    "plt.plot(neighbors_settings,training_accuracy,label=\"training accuracy\")\n",
    "plt.plot(neighbors_settings,test_accuracy,label=\"test accuracy\")\n",
    "plt.ylabel(\"Accuracy\")\n",
    "plt.xlabel(\"n_neighbors\")\n",
    "plt.legend()\n",
    "plt.savefig('knn_compare_model')"
   ]
  },
  {
   "cell_type": "code",
   "execution_count": 21,
   "metadata": {},
   "outputs": [],
   "source": [
    "#k近邻算法\n",
    "from sklearn.neighbors import KNeighborsClassifier\n",
    "knn = KNeighborsClassifier(n_neighbors = 5)\n",
    "knn.fit(train_X, train_y)\n",
    "knn_y_predict = knn.predict(test_X)"
   ]
  },
  {
   "cell_type": "code",
   "execution_count": 22,
   "metadata": {
    "scrolled": true
   },
   "outputs": [
    {
     "name": "stdout",
     "output_type": "stream",
     "text": [
      "The accuracy of K-Nearest Neighbor Classifier is:0.9562043795620438\n",
      "              precision    recall  f1-score   support\n",
      "\n",
      "      Benign       0.95      0.98      0.96        83\n",
      "   Malignant       0.96      0.93      0.94        54\n",
      "\n",
      "    accuracy                           0.96       137\n",
      "   macro avg       0.96      0.95      0.95       137\n",
      "weighted avg       0.96      0.96      0.96       137\n",
      "\n"
     ]
    }
   ],
   "source": [
    "print ('The accuracy of K-Nearest Neighbor Classifier is:{}'.format(knn.score(test_X, test_y))) \n",
    "print (classification_report(test_y, knn_y_predict, target_names=['Benign', 'Malignant']))"
   ]
  },
  {
   "cell_type": "code",
   "execution_count": 23,
   "metadata": {},
   "outputs": [
    {
     "data": {
      "text/plain": [
       "Text(0, 0.5, 'Uniformity of cell shape')"
      ]
     },
     "execution_count": 23,
     "metadata": {},
     "output_type": "execute_result"
    },
    {
     "data": {
      "image/png": "[encoded data removed]",
      "text/plain": [
       "<Figure size 432x288 with 1 Axes>"
      ]
     },
     "metadata": {
      "needs_background": "light"
     },
     "output_type": "display_data"
    }
   ],
   "source": [
    "Benign = data.loc[data['Class'] == 2][['Clump Thickness', 'Uniformity of cell shape']]\n",
    "Malignant =data.loc[data['Class'] == 4][['Clump Thickness', 'Uniformity of cell shape']]\n",
    "\n",
    "import matplotlib.pyplot as plt\n",
    "plt.scatter(Malignant['Clump Thickness'], Malignant['Uniformity of cell shape'], marker='o', s = 200, c = 'red')\n",
    "plt.scatter(Benign['Clump Thickness'], Benign['Uniformity of cell shape'], marker='x', s = 150, c = 'black')\n",
    "\n",
    "plt.xlabel('Clump Thickness')\n",
    "plt.ylabel('Uniformity of cell shape')"
   ]
  },
  {
   "cell_type": "code",
   "execution_count": null,
   "metadata": {},
   "outputs": [],
   "source": []
  }
 ],
 "metadata": {
  "kernelspec": {
   "display_name": "Python 3",
   "language": "python",
   "name": "python3"
  },
  "language_info": {
   "codemirror_mode": {
    "name": "ipython",
    "version": 3
   },
   "file_extension": ".py",
   "mimetype": "text/x-python",
   "name": "python",
   "nbconvert_exporter": "python",
   "pygments_lexer": "ipython3",
   "version": "3.7.6"
  }
 },
 "nbformat": 4,
 "nbformat_minor": 4
}
